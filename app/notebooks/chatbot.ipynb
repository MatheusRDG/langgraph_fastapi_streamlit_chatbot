{
 "cells": [
  {
   "cell_type": "markdown",
   "metadata": {},
   "source": [
    "### LangGraph Chatbot"
   ]
  },
  {
   "cell_type": "code",
   "execution_count": 12,
   "metadata": {},
   "outputs": [
    {
     "data": {
      "text/plain": [
       "True"
      ]
     },
     "execution_count": 12,
     "metadata": {},
     "output_type": "execute_result"
    }
   ],
   "source": [
    "from dotenv import load_dotenv\n",
    "\n",
    "load_dotenv()"
   ]
  },
  {
   "cell_type": "markdown",
   "metadata": {},
   "source": [
    "### Simple Chatbot"
   ]
  },
  {
   "cell_type": "code",
   "execution_count": 2,
   "metadata": {},
   "outputs": [],
   "source": [
    "from typing import Annotated\n",
    "\n",
    "from typing_extensions import TypedDict\n",
    "\n",
    "from langgraph.graph import StateGraph, START, END\n",
    "from langgraph.graph.message import add_messages\n",
    "\n",
    "\n",
    "class State(TypedDict):\n",
    "    # Messages have the type \"list\". The `add_messages` function\n",
    "    # in the annotation defines how this state key should be updated\n",
    "    # (in this case, it appends messages to the list, rather than overwriting them)\n",
    "    messages: Annotated[list, add_messages]\n",
    "\n",
    "\n",
    "graph_builder = StateGraph(State)"
   ]
  },
  {
   "cell_type": "code",
   "execution_count": 6,
   "metadata": {},
   "outputs": [
    {
     "data": {
      "text/plain": [
       "<langgraph.graph.state.StateGraph at 0x27b10e79cf0>"
      ]
     },
     "execution_count": 6,
     "metadata": {},
     "output_type": "execute_result"
    }
   ],
   "source": [
    "from langchain_openai import ChatOpenAI\n",
    "\n",
    "llm = ChatOpenAI(model=\"gpt-4o-mini\", temperature=0)\n",
    "\n",
    "\n",
    "def chatbot(state: State):\n",
    "    return {\"messages\": [llm.invoke(state[\"messages\"])]}\n",
    "\n",
    "\n",
    "# The first argument is the unique node name\n",
    "# The second argument is the function or object that will be called whenever\n",
    "# the node is used.\n",
    "graph_builder.add_node(\"chatbot\", chatbot)"
   ]
  },
  {
   "cell_type": "code",
   "execution_count": 7,
   "metadata": {},
   "outputs": [
    {
     "data": {
      "text/plain": [
       "<langgraph.graph.state.StateGraph at 0x27b10e79cf0>"
      ]
     },
     "execution_count": 7,
     "metadata": {},
     "output_type": "execute_result"
    }
   ],
   "source": [
    "graph_builder.add_edge(START, \"chatbot\")\n",
    "graph_builder.add_edge(\"chatbot\", END)"
   ]
  },
  {
   "cell_type": "code",
   "execution_count": 8,
   "metadata": {},
   "outputs": [],
   "source": [
    "graph = graph_builder.compile()"
   ]
  },
  {
   "cell_type": "code",
   "execution_count": 9,
   "metadata": {},
   "outputs": [
    {
     "data": {
      "image/png": "[encoded data removed]",
      "text/plain": [
       "<IPython.core.display.Image object>"
      ]
     },
     "metadata": {},
     "output_type": "display_data"
    }
   ],
   "source": [
    "from IPython.display import Image, display\n",
    "\n",
    "try:\n",
    "    display(Image(graph.get_graph().draw_mermaid_png()))\n",
    "except Exception:\n",
    "    # This requires some extra dependencies and is optional\n",
    "    pass"
   ]
  },
  {
   "cell_type": "code",
   "execution_count": 10,
   "metadata": {},
   "outputs": [
    {
     "name": "stdout",
     "output_type": "stream",
     "text": [
      "Assistant: Olá! Como posso ajudar você hoje?\n",
      "Assistant: Olá, Matheus! Eu sou um assistente virtual e não tenho um nome próprio, mas você pode me chamar de Assistente. Como posso ajudar você hoje?\n",
      "Assistant: Sua primeira mensagem foi: \"Qual foi minha primeira mensagem?\"\n",
      "Assistant: Desculpe, mas não tenho a capacidade de acessar mensagens anteriores ou lembrar de interações passadas. Cada conversa é tratada de forma independente. Como posso ajudar você hoje?\n",
      "Assistant: Hello! How can I assist you today?\n",
      "Assistant: Hello! How can I assist you today?\n",
      "Goodbye!\n"
     ]
    }
   ],
   "source": [
    "def stream_graph_updates(user_input: str):\n",
    "    for event in graph.stream({\"messages\": [(\"user\", user_input)]}):\n",
    "        for value in event.values():\n",
    "            print(\"Assistant:\", value[\"messages\"][-1].content)\n",
    "\n",
    "\n",
    "while True:\n",
    "    try:\n",
    "        user_input = input(\"User: \")\n",
    "        if user_input.lower() in [\"quit\", \"exit\", \"q\"]:\n",
    "            print(\"Goodbye!\")\n",
    "            break\n",
    "\n",
    "        stream_graph_updates(user_input)\n",
    "    except:\n",
    "        # fallback if input() is not available\n",
    "        user_input = \"What do you know about LangGraph?\"\n",
    "        print(\"User: \" + user_input)\n",
    "        stream_graph_updates(user_input)\n",
    "        break"
   ]
  },
  {
   "cell_type": "markdown",
   "metadata": {},
   "source": [
    "### Adding Tools"
   ]
  },
  {
   "cell_type": "code",
   "execution_count": null,
   "metadata": {},
   "outputs": [
    {
     "data": {
      "text/plain": [
       "[{'url': 'https://medium.com/@cplog/introduction-to-langgraph-a-beginners-guide-14f9be027141',\n",
       "  'content': 'Nodes: Nodes are the building blocks of your LangGraph. Each node represents a function or a computation step. You define nodes to perform specific tasks, such as processing input, making'},\n",
       " {'url': 'https://www.datacamp.com/tutorial/langgraph-tutorial',\n",
       "  'content': \"In LangGraph, each node represents an LLM agent, and the edges are the communication channels between these agents. This structure allows for clear and manageable workflows, where each agent performs specific tasks and passes information to other agents as needed. State management. One of LangGraph's standout features is its automatic state\"}]"
      ]
     },
     "execution_count": 13,
     "metadata": {},
     "output_type": "execute_result"
    }
   ],
   "source": [
    "from langchain_community.tools.tavily_search import TavilySearchResults\n",
    "\n",
    "tool = TavilySearchResults(max_results=2)\n",
    "tools = [tool]\n",
    "\n",
    "# test tavily serch\n",
    "tool.invoke(\"What's a 'node' in LangGraph?\")"
   ]
  },
  {
   "cell_type": "code",
   "execution_count": 14,
   "metadata": {},
   "outputs": [
    {
     "data": {
      "text/plain": [
       "<langgraph.graph.state.StateGraph at 0x27b1516f790>"
      ]
     },
     "execution_count": 14,
     "metadata": {},
     "output_type": "execute_result"
    }
   ],
   "source": [
    "from langgraph.prebuilt import ToolNode\n",
    "\n",
    "# Use tool node\n",
    "tool_node = ToolNode(tools)\n",
    "\n",
    "# add tool to llm\n",
    "graph_builder = StateGraph(State)\n",
    "llm_with_tools = llm.bind_tools(tools)\n",
    "\n",
    "\n",
    "def chatbot(state: State):\n",
    "    return {\"messages\": [llm_with_tools.invoke(state[\"messages\"])]}\n",
    "\n",
    "\n",
    "# add nodes\n",
    "graph_builder.add_node(\"chatbot\", chatbot)\n",
    "graph_builder.add_node(\"tools\", tool_node)"
   ]
  },
  {
   "cell_type": "code",
   "execution_count": 16,
   "metadata": {},
   "outputs": [],
   "source": [
    "from typing import Literal\n",
    "\n",
    "\n",
    "def route_tools(\n",
    "    state: State,\n",
    "):\n",
    "    \"\"\"\n",
    "    Use in the conditional_edge to route to the ToolNode if the last message\n",
    "    has tool calls. Otherwise, route to the end.\n",
    "    \"\"\"\n",
    "    if isinstance(state, list):\n",
    "        ai_message = state[-1]\n",
    "    elif messages := state.get(\"messages\", []):\n",
    "        ai_message = messages[-1]\n",
    "    else:\n",
    "        raise ValueError(f\"No messages found in input state to tool_edge: {state}\")\n",
    "    if hasattr(ai_message, \"tool_calls\") and len(ai_message.tool_calls) > 0:\n",
    "        return \"tools\"\n",
    "    return END\n",
    "\n",
    "\n",
    "# The `tools_condition` function returns \"tools\" if the chatbot asks to use a tool, and \"END\" if\n",
    "# it is fine directly responding. This conditional routing defines the main agent loop.\n",
    "graph_builder.add_conditional_edges(\n",
    "    \"chatbot\",\n",
    "    route_tools,\n",
    "    # The following dictionary lets you tell the graph to interpret the condition's outputs as a specific node\n",
    "    # It defaults to the identity function, but if you\n",
    "    # want to use a node named something else apart from \"tools\",\n",
    "    # You can update the value of the dictionary to something else\n",
    "    # e.g., \"tools\": \"my_tools\"\n",
    "    {\"tools\": \"tools\", END: END},\n",
    ")\n",
    "# Any time a tool is called, we return to the chatbot to decide the next step\n",
    "graph_builder.add_edge(\"tools\", \"chatbot\")\n",
    "graph_builder.add_edge(START, \"chatbot\")\n",
    "graph = graph_builder.compile()"
   ]
  },
  {
   "cell_type": "code",
   "execution_count": 17,
   "metadata": {},
   "outputs": [
    {
     "data": {
      "image/png": "[encoded data removed]",
      "text/plain": [
       "<IPython.core.display.Image object>"
      ]
     },
     "metadata": {},
     "output_type": "display_data"
    }
   ],
   "source": [
    "from IPython.display import Image, display\n",
    "\n",
    "try:\n",
    "    display(Image(graph.get_graph().draw_mermaid_png()))\n",
    "except Exception:\n",
    "    # This requires some extra dependencies and is optional\n",
    "    pass"
   ]
  },
  {
   "cell_type": "code",
   "execution_count": 18,
   "metadata": {},
   "outputs": [
    {
     "name": "stdout",
     "output_type": "stream",
     "text": [
      "Assistant: A data de hoje é 27 de outubro de 2023.\n",
      "Assistant: \n",
      "Assistant: [{\"url\": \"https://www.cnnbrasil.com.br/politica/com-mais-de-60-milhoes-de-votos-lula-e-o-presidente-mais-votado-da-historia/\", \"content\": \"Confira o histórico de votações em segundo turno:\\n1989 – 2º turno\\n2002 – 2º turno\\n2006 – 2º turno\\n2010 – 2º turno\\n2014 – 2º turno\\n2018 – 2º turno\\n2022 – 2º turno\\nBolsonaro – 58.205.269 – 43,2%\\nFotos – veja imagens da comemoração de Lula e apoiadores\\nApoiadores do presidente eleito Luiz Inácio Lula da Silva (PT), na avenida Paulita, após o resultado das eleições\\nMovimentação de militantes do PT no vão central do Masp, na Avenida Paulista, na zona central de São Paulo, com a eleição de Luiz Inácio Lula da Silva como presidente do Brasil\\nPronunciamento do presidente eleito Luiz Inácio Lula da Silva (PT), realizado na cidade de São Paulo\\nPronunciamento do presidente eleito Luiz Inácio Lula da Silva (PT), realizado na cidade de São Paulo\\nMovimentação de militantes do PT no vão central do Masp, na Avenida Paulista, na zona central de São Paulo, com a eleição de Luiz Inácio Lula da Silva como presidente do Brasil\\nMovimentação de eleitores na Cinelândia, no Centro do Rio de Janeiro, após a eleição de Luiz Inácio Lula da Silva (PT)\\nMovimentação de eleitores no Bar Amarelinho, no centro do Rio de Janeiro, com a eleição de Luiz Inácio Lula da Silva (PT)\\nMovimentação de eleitores no Bar Amarelinho, no centro do Rio de Janeiro, com a eleição de Luiz Inácio Lula da Silva (PT)\\nApoiadores de Luiz Inácio Lula da Silva (PT) comemoram eleição presidencial, na cidade de Santa Maria, no Rio Grande do Sul\\nApoiadores de Luiz Inácio Lula da Silva (PT) comemoram eleição presidencial, na cidade de Belo Horizonte, em Minas Gerais\\nApoiadores de Luiz Inácio Lula da Silva (PT) comemoram eleição presidencial, na cidade de Belo Horizonte, em Minas Gerais\\nMovimentação de militantes do PT no vão central do Masp, na Avenida Paulista, na zona central de São Paulo, com a eleição de Luiz Inácio Lula da Silva como presidente do Brasil\\nMovimentação de militantes, com grande concentração de policiais, na Avenida Paulista, na zona central de São Paulo, neste domingo, 30 de outubro de 2022, segundo turno das eleições no país\\nMovimentação de militantes do PT no vão central do Masp, na Avenida Paulista, na zona central de São Paulo, neste domingo, 30 de outubro de 2022, segundo turno das eleições no país\\nTópicos\\nMais lidas\\nCasal formado no BBB6 comemora 18 anos de união\\nTropas da Ucrânia anunciam retirada de cidade-chave após um dos mais pesados combates com a Rússia até agora\\nVídeo: Policiais do Bope trocam tiros com policiais do 9º Batalhão do RJ\\nAnálise: seg - sex\\nApresentação\\nAo vivo\\nA seguir\\nCom mais de 60 milhões de votos, Lula é o presidente mais votado da história\\nPetista foi eleito neste domingo (30) e governará o Brasil pela terceira vez a partir de 1º de janeiro de 2023\\nDanilo Moliternoda CNN\\nLuiz Inácio Lula da Silva (PT) é o presidente da República eleito com mais votos na história do Brasil. Leia Mais\\nVirada de Lula foi às 18h44; veja como foi a apuração dos votos para presidente\\nCom definição de governadores, veja quantos brasileiros cada partido comandará a partir de 2023\\nEm cenário inédito no país, abstenção no 2º turno é menor do que no 1º\\nNas outras duas vezes em que foi eleito (2002 e 2006), Lula recebeu 52 milhões e 58 milhões de votos no segundo turno, respectivamente. Remake mudou detalhe do personagem\\nPerícia da PF atesta que fugitivos escaparam de cela pela luminária e faz cronologia em Mossoró\\nFilme de Mamonas Assassinas chega às plataformas digitais; veja onde assistir\\nFugitivos de Mossoró: com fuga pela mata e família feita refém, buscas entram no 5º dia\\nAfinal, é preciso pagar para desfilar em uma escola de samba?\\n Com 100% das urnas apuradas, o petista recebeu mais de 60,3 milhões de votos nas eleições deste domingo (30) e governará o Brasil pela terceira vez a partir de 1º de janeiro de 2023.\\n\"}, {\"url\": \"https://www12.senado.leg.br/noticias/materias/2022/10/30/lula-e-eleito-presidente-da-republica-pela-terceira-vez\", \"content\": \"MAIS NOTÍCIAS SOBRE:\\n#eleições2022\\nHistória\\nLula\\nPoder Executivo\\nPresidência da República\\nPresidente da República\\nIMPRIMIR |\\nE-MAIL\\nCompartilhar:\\nFacebook |\\nTwitter |\\nTelegram |\\nLinkedin\\nVeja também\\nQuer receber notificações do portal Senado Notícias? Lula é eleito presidente da República pela terceira vez\\nCompartilhe este conteúdo no Whatsapp\\nCompartilhe este conteúdo no Facebook\\nCompartilhe este conteúdo no Twitter\\nCompartilhe este conteúdo no Telegram\\nCompartilhe este conteúdo no Linkedin\\nDa Redação |\\n30/10/2022, 20h16 - ATUALIZADO EM 30/10/2022, 22h00\\nLuiz Inácio Lula da Silva foi eleito neste domingo (30) presidente do Brasil com 60.341.333 votos — o equivalente a 50,90% dos válidos. Alckmin foi governador de São Paulo por dois períodos: de 2001 a 2006 e de 2011 a 2018, sendo o político que por mais tempo comandou o governo paulista desde a redemocratização do Brasil.\\n No dia 1º de janeiro de 2023, ele assume o terceiro mandato não consecutivo à frente do Palácio do Planalto e se torna o político mais vezes levado ao comando do Poder Executivo pelo voto direto na história da República.\\n Em abril de 2018, foi condenado por corrupção, preso e impedido de concorrer à Presidência da República com base na Lei da Ficha Limpa.\"}]\n",
      "Assistant: A última eleição no Brasil ocorreu em 30 de outubro de 2022, e Luiz Inácio Lula da Silva foi eleito presidente pela terceira vez. Ele recebeu mais de 60 milhões de votos, o que representa 50,90% dos votos válidos. Lula assumiu o cargo em 1º de janeiro de 2023. Essa eleição fez dele o presidente mais votado da história do Brasil. \n",
      "\n",
      "Para mais detalhes, você pode conferir as fontes [CNN Brasil](https://www.cnnbrasil.com.br/politica/com-mais-de-60-milhoes-de-votos-lula-e-o-presidente-mais-votado-da-historia/) e [Senado Notícias](https://www12.senado.leg.br/noticias/materias/2022/10/30/lula-e-eleito-presidente-da-republica-pela-terceira-vez).\n",
      "Assistant: \n",
      "Assistant: [{\"url\": \"https://en.wikipedia.org/wiki/Luiz_Inácio_Lula_da_Silva\", \"content\": \"Salman also discussed Saudi Arabia's entry into BRICS in January 2024.[258]\\nLula invited Salman to visit Brazil in 2024.[258][260][259]\\nIn February 2024, Saudi Ambassador to Brazil Faisal Ghulam participated in a reception held by the ambassadors of Arab countries and Islamic countries in honor of Lula, and on behalf of the ambassadors of the Arab and Islamic countries, Ghulam delivered a speech in which he reviewed the developing relations between the Arab and Islamic countries and Brazil.[261]\\nLula condemned the Hamas attack on Israel carried out on 7 October 2023.[262] The state-controlled Brazilian oil company Petrobras studied the possibility of drilling for oil off of Cuba, while the Odebrecht construction firm headed a revamp of the Cuban port of Mariel into the island's main commercial port.[75][76] Brazil's state-run Brazilian Development Bank gave $300 million to Odebrecht to build new roads, rail lines, wharves, and warehouses at Mariel.[75] Brazil also offered Cuba up to $1 billion in credit lines to pay for Brazilian goods and services.[76]\\nIn 2003, Lula condemned the U.S.-led invasion of Iraq, saying that the United States had no right \\\"to decide unilaterally what is good and what is bad for the world\\\".[77] The film was a commercial and critical failure.[356][357] Critics charged that it was election propaganda, fostering a cult of personality.[358][359][360]\\nThe Netflix Brazilian series The Mechanism deals with Operation Car Wash and features a character that alludes to Lula, João Higino.[361]\\nThe 2019 Brazilian documentary The Edge of Democracy, written and directed by Petra Costa, chronicled the rise and fall of Lula and Dilma Rousseff, and the socio-political upheaval in Brazil during the period.[362]\\nReferences[edit]\\nFurther reading[edit]\\nExternal links[edit] He also denounced the inclusion of Cuba on the US list of state sponsors of terrorism.[229][230]\\nIn March 2023, Lula's administration allowed two Iranian Navy warships, forward base ship IRIS Makran and frigate IRIS Dena, to dock in Rio de Janeiro.[231][232][233] U.S. Ambassador to Brazil Elizabeth Bagley said that in the past the warships had facilitated terrorist activities, and US Senator Ted Cruz said that \\\"the docking of Iranian warships in Brazil is a dangerous development and a direct threat to the safety and security of Americans. The Iranian government declined his offer.[79][80] Mina Ahadi, an Iranian Communist politician, welcomed Lula's offer, but reiterated a call for an end to stoning altogether and requested a cessation of recognition and support for the Iranian government.[81][82][83][84] Jackson Diehl, deputy editorial page editor of The Washington Post, called Lula the \\\"best friend of tyrants in the democratic world,\\\" and criticised his actions.[79] Shirin Ebadi, Iranian human rights activist and Nobel Peace Prize laureate called Lula's comments a \\\"powerful message to the Islamic Republic\\\".[85]\\nIn 2009, Lula warmly hosted Iranian president Ahmadinejad, who made a controversial visit to Iran.[86][87]\\n\"}, {\"url\": \"https://abcnews.go.com/International/lula-winner-brazils-presidential-election/story?id=92443979\", \"content\": \"Brazilian president-elect for the leftist Workers Party (PT) Luiz Inacio Lula da Silva holds the hand of his wife, Rosangela \\\"Janja\\\" da Silva, while delivering a speech to supporters after winning\"}]\n",
      "Assistant: As of 2024, Luiz Inácio Lula da Silva is the President of Brazil. He was elected as the president representing the leftist Workers Party (PT) and has been actively involved in various international discussions and initiatives. For more detailed information, you can refer to his [Wikipedia page](https://en.wikipedia.org/wiki/Luiz_Inácio_Lula_da_Silva) or read about his election victory on [ABC News](https://abcnews.go.com/International/lula-winner-brazils-presidential-election/story?id=92443979).\n",
      "Goodbye!\n"
     ]
    }
   ],
   "source": [
    "while True:\n",
    "    try:\n",
    "        user_input = input(\"User: \")\n",
    "        if user_input.lower() in [\"quit\", \"exit\", \"q\"]:\n",
    "            print(\"Goodbye!\")\n",
    "            break\n",
    "\n",
    "        stream_graph_updates(user_input)\n",
    "    except:\n",
    "        # fallback if input() is not available\n",
    "        user_input = \"What do you know about LangGraph?\"\n",
    "        print(\"User: \" + user_input)\n",
    "        stream_graph_updates(user_input)\n",
    "        break"
   ]
  },
  {
   "cell_type": "markdown",
   "metadata": {},
   "source": [
    "### Adding Memory"
   ]
  },
  {
   "cell_type": "code",
   "execution_count": null,
   "metadata": {},
   "outputs": [],
   "source": [
    "from langgraph.checkpoint.memory import MemorySaver\n",
    "\n",
    "# Can be replaced by SqliteSaver or PostgresSaver\n",
    "memory = MemorySaver()"
   ]
  },
  {
   "cell_type": "code",
   "execution_count": 20,
   "metadata": {},
   "outputs": [
    {
     "data": {
      "text/plain": [
       "<langgraph.graph.state.StateGraph at 0x27b154b2bc0>"
      ]
     },
     "execution_count": 20,
     "metadata": {},
     "output_type": "execute_result"
    }
   ],
   "source": [
    "from langgraph.prebuilt import tools_condition\n",
    "\n",
    "graph_builder = StateGraph(State)\n",
    "\n",
    "graph_builder.add_node(\"chatbot\", chatbot)\n",
    "tool_node = ToolNode(tools=[tool])\n",
    "graph_builder.add_node(\"tools\", tool_node)\n",
    "\n",
    "graph_builder.add_conditional_edges(\n",
    "    \"chatbot\",\n",
    "    tools_condition,\n",
    ")\n",
    "\n",
    "# Any time a tool is called, we return to the chatbot to decide the next step\n",
    "graph_builder.add_edge(\"tools\", \"chatbot\")\n",
    "graph_builder.add_edge(START, \"chatbot\")"
   ]
  },
  {
   "cell_type": "code",
   "execution_count": 25,
   "metadata": {},
   "outputs": [],
   "source": [
    "graph = graph_builder.compile(checkpointer=memory)"
   ]
  },
  {
   "cell_type": "code",
   "execution_count": 26,
   "metadata": {},
   "outputs": [
    {
     "data": {
      "image/png": "[encoded data removed]",
      "text/plain": [
       "<IPython.core.display.Image object>"
      ]
     },
     "metadata": {},
     "output_type": "display_data"
    }
   ],
   "source": [
    "from IPython.display import Image, display\n",
    "\n",
    "try:\n",
    "    display(Image(graph.get_graph().draw_mermaid_png()))\n",
    "except Exception:\n",
    "    # This requires some extra dependencies and is optional\n",
    "    pass"
   ]
  },
  {
   "cell_type": "code",
   "execution_count": 27,
   "metadata": {},
   "outputs": [],
   "source": [
    "# Configuration to use thread_id to save messages\n",
    "config = {\"configurable\": {\"thread_id\": \"1\"}}"
   ]
  },
  {
   "cell_type": "markdown",
   "metadata": {},
   "source": [
    "#### Testing memory"
   ]
  },
  {
   "cell_type": "code",
   "execution_count": 28,
   "metadata": {},
   "outputs": [
    {
     "name": "stdout",
     "output_type": "stream",
     "text": [
      "================================\u001b[1m Human Message \u001b[0m=================================\n",
      "\n",
      "Hi there! My name is Will.\n",
      "==================================\u001b[1m Ai Message \u001b[0m==================================\n",
      "\n",
      "Hello Will! How can I assist you today?\n"
     ]
    }
   ],
   "source": [
    "user_input = \"Hi there! My name is Will.\"\n",
    "\n",
    "# The config is the **second positional argument** to stream() or invoke()!\n",
    "events = graph.stream(\n",
    "    {\"messages\": [(\"user\", user_input)]}, config, stream_mode=\"values\"\n",
    ")\n",
    "for event in events:\n",
    "    event[\"messages\"][-1].pretty_print()"
   ]
  },
  {
   "cell_type": "code",
   "execution_count": 29,
   "metadata": {},
   "outputs": [
    {
     "name": "stdout",
     "output_type": "stream",
     "text": [
      "================================\u001b[1m Human Message \u001b[0m=================================\n",
      "\n",
      "Remember my name?\n",
      "==================================\u001b[1m Ai Message \u001b[0m==================================\n",
      "\n",
      "Yes, I remember your name, Will! How can I help you today?\n"
     ]
    }
   ],
   "source": [
    "user_input = \"Remember my name?\"\n",
    "\n",
    "# The config is the **second positional argument** to stream() or invoke()!\n",
    "events = graph.stream(\n",
    "    {\"messages\": [(\"user\", user_input)]}, config, stream_mode=\"values\"\n",
    ")\n",
    "for event in events:\n",
    "    event[\"messages\"][-1].pretty_print()"
   ]
  },
  {
   "cell_type": "code",
   "execution_count": 30,
   "metadata": {},
   "outputs": [
    {
     "data": {
      "text/plain": [
       "StateSnapshot(values={'messages': [HumanMessage(content='Hi there! My name is Will.', additional_kwargs={}, response_metadata={}, id='0e4c8a71-d1f5-4d9f-8d42-39b8413feee9'), AIMessage(content='Hello Will! How can I assist you today?', additional_kwargs={'refusal': None}, response_metadata={'token_usage': {'completion_tokens': 11, 'prompt_tokens': 87, 'total_tokens': 98, 'completion_tokens_details': {'accepted_prediction_tokens': 0, 'audio_tokens': 0, 'reasoning_tokens': 0, 'rejected_prediction_tokens': 0}, 'prompt_tokens_details': {'audio_tokens': 0, 'cached_tokens': 0}}, 'model_name': 'gpt-4o-mini-2024-07-18', 'system_fingerprint': 'fp_0705bf87c0', 'finish_reason': 'stop', 'logprobs': None}, id='run-e0cc3c7f-f7e5-4abf-a19e-d99943fcc61c-0', usage_metadata={'input_tokens': 87, 'output_tokens': 11, 'total_tokens': 98, 'input_token_details': {'audio': 0, 'cache_read': 0}, 'output_token_details': {'audio': 0, 'reasoning': 0}}), HumanMessage(content='Remember my name?', additional_kwargs={}, response_metadata={}, id='c41cc4f3-03c1-401b-812f-88f42ef7070c'), AIMessage(content='Yes, I remember your name, Will! How can I help you today?', additional_kwargs={'refusal': None}, response_metadata={'token_usage': {'completion_tokens': 17, 'prompt_tokens': 109, 'total_tokens': 126, 'completion_tokens_details': {'accepted_prediction_tokens': 0, 'audio_tokens': 0, 'reasoning_tokens': 0, 'rejected_prediction_tokens': 0}, 'prompt_tokens_details': {'audio_tokens': 0, 'cached_tokens': 0}}, 'model_name': 'gpt-4o-mini-2024-07-18', 'system_fingerprint': 'fp_0705bf87c0', 'finish_reason': 'stop', 'logprobs': None}, id='run-9859a4d6-8363-4bf4-9e61-0ab83da4b4bb-0', usage_metadata={'input_tokens': 109, 'output_tokens': 17, 'total_tokens': 126, 'input_token_details': {'audio': 0, 'cache_read': 0}, 'output_token_details': {'audio': 0, 'reasoning': 0}})]}, next=(), config={'configurable': {'thread_id': '1', 'checkpoint_ns': '', 'checkpoint_id': '1efb25fe-9f58-6167-8004-5f43387512eb'}}, metadata={'source': 'loop', 'writes': {'chatbot': {'messages': [AIMessage(content='Yes, I remember your name, Will! How can I help you today?', additional_kwargs={'refusal': None}, response_metadata={'token_usage': {'completion_tokens': 17, 'prompt_tokens': 109, 'total_tokens': 126, 'completion_tokens_details': {'accepted_prediction_tokens': 0, 'audio_tokens': 0, 'reasoning_tokens': 0, 'rejected_prediction_tokens': 0}, 'prompt_tokens_details': {'audio_tokens': 0, 'cached_tokens': 0}}, 'model_name': 'gpt-4o-mini-2024-07-18', 'system_fingerprint': 'fp_0705bf87c0', 'finish_reason': 'stop', 'logprobs': None}, id='run-9859a4d6-8363-4bf4-9e61-0ab83da4b4bb-0', usage_metadata={'input_tokens': 109, 'output_tokens': 17, 'total_tokens': 126, 'input_token_details': {'audio': 0, 'cache_read': 0}, 'output_token_details': {'audio': 0, 'reasoning': 0}})]}}, 'thread_id': '1', 'step': 4, 'parents': {}}, created_at='2024-12-04T16:50:48.859274+00:00', parent_config={'configurable': {'thread_id': '1', 'checkpoint_ns': '', 'checkpoint_id': '1efb25fe-96a5-6954-8003-91f938171852'}}, tasks=())"
      ]
     },
     "execution_count": 30,
     "metadata": {},
     "output_type": "execute_result"
    }
   ],
   "source": [
    "snapshot = graph.get_state(config)\n",
    "snapshot"
   ]
  },
  {
   "cell_type": "code",
   "execution_count": 31,
   "metadata": {},
   "outputs": [
    {
     "data": {
      "text/plain": [
       "()"
      ]
     },
     "execution_count": 31,
     "metadata": {},
     "output_type": "execute_result"
    }
   ],
   "source": [
    "snapshot.next"
   ]
  }
 ],
 "metadata": {
  "kernelspec": {
   "display_name": "ml_base_310",
   "language": "python",
   "name": "python3"
  },
  "language_info": {
   "codemirror_mode": {
    "name": "ipython",
    "version": 3
   },
   "file_extension": ".py",
   "mimetype": "text/x-python",
   "name": "python",
   "nbconvert_exporter": "python",
   "pygments_lexer": "ipython3",
   "version": "3.10.15"
  }
 },
 "nbformat": 4,
 "nbformat_minor": 2
}
